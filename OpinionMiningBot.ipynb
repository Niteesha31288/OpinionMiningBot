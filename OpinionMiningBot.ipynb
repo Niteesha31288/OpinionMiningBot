{
  "nbformat": 4,
  "nbformat_minor": 0,
  "metadata": {
    "colab": {
      "provenance": []
    },
    "kernelspec": {
      "display_name": "Python 3",
      "name": "python3"
    }
  },
  "cells": [
    {
      "cell_type": "code",
      "metadata": {
        "id": "MVqaF4F_Ipev"
      },
      "source": [
        "import tweepy\n",
        "import re"
      ],
      "execution_count": null,
      "outputs": []
    },
    {
      "cell_type": "code",
      "metadata": {
        "id": "3YsESIcDI4aV",
        "colab": {
          "base_uri": "https://localhost:8080/"
        },
        "outputId": "a6178d13-e467-43cf-a038-65dbac4aa6f1"
      },
      "source": [
        "pip install tweepy nltk google-cloud-language python-telegram-bot\n"
      ],
      "execution_count": null,
      "outputs": [
        {
          "output_type": "stream",
          "text": [
            "Requirement already satisfied: tweepy in /usr/local/lib/python3.7/dist-packages (3.10.0)\n",
            "Requirement already satisfied: nltk in /usr/local/lib/python3.7/dist-packages (3.2.5)\n",
            "Requirement already satisfied: google-cloud-language in /usr/local/lib/python3.7/dist-packages (1.2.0)\n",
            "Requirement already satisfied: python-telegram-bot in /usr/local/lib/python3.7/dist-packages (13.7)\n",
            "Requirement already satisfied: six>=1.10.0 in /usr/local/lib/python3.7/dist-packages (from tweepy) (1.15.0)\n",
            "Requirement already satisfied: requests-oauthlib>=0.7.0 in /usr/local/lib/python3.7/dist-packages (from tweepy) (1.3.0)\n",
            "Requirement already satisfied: requests[socks]>=2.11.1 in /usr/local/lib/python3.7/dist-packages (from tweepy) (2.23.0)\n",
            "Requirement already satisfied: oauthlib>=3.0.0 in /usr/local/lib/python3.7/dist-packages (from requests-oauthlib>=0.7.0->tweepy) (3.1.1)\n",
            "Requirement already satisfied: certifi>=2017.4.17 in /usr/local/lib/python3.7/dist-packages (from requests[socks]>=2.11.1->tweepy) (2021.5.30)\n",
            "Requirement already satisfied: chardet<4,>=3.0.2 in /usr/local/lib/python3.7/dist-packages (from requests[socks]>=2.11.1->tweepy) (3.0.4)\n",
            "Requirement already satisfied: idna<3,>=2.5 in /usr/local/lib/python3.7/dist-packages (from requests[socks]>=2.11.1->tweepy) (2.10)\n",
            "Requirement already satisfied: urllib3!=1.25.0,!=1.25.1,<1.26,>=1.21.1 in /usr/local/lib/python3.7/dist-packages (from requests[socks]>=2.11.1->tweepy) (1.24.3)\n",
            "Requirement already satisfied: PySocks!=1.5.7,>=1.5.6 in /usr/local/lib/python3.7/dist-packages (from requests[socks]>=2.11.1->tweepy) (1.7.1)\n",
            "Requirement already satisfied: google-api-core[grpc]<2.0.0dev,>=1.6.0 in /usr/local/lib/python3.7/dist-packages (from google-cloud-language) (1.26.3)\n",
            "Requirement already satisfied: googleapis-common-protos<2.0dev,>=1.6.0 in /usr/local/lib/python3.7/dist-packages (from google-api-core[grpc]<2.0.0dev,>=1.6.0->google-cloud-language) (1.53.0)\n",
            "Requirement already satisfied: packaging>=14.3 in /usr/local/lib/python3.7/dist-packages (from google-api-core[grpc]<2.0.0dev,>=1.6.0->google-cloud-language) (21.0)\n",
            "Requirement already satisfied: pytz in /usr/local/lib/python3.7/dist-packages (from google-api-core[grpc]<2.0.0dev,>=1.6.0->google-cloud-language) (2018.9)\n",
            "Requirement already satisfied: protobuf>=3.12.0 in /usr/local/lib/python3.7/dist-packages (from google-api-core[grpc]<2.0.0dev,>=1.6.0->google-cloud-language) (3.17.3)\n",
            "Requirement already satisfied: setuptools>=40.3.0 in /usr/local/lib/python3.7/dist-packages (from google-api-core[grpc]<2.0.0dev,>=1.6.0->google-cloud-language) (57.2.0)\n",
            "Requirement already satisfied: google-auth<2.0dev,>=1.21.1 in /usr/local/lib/python3.7/dist-packages (from google-api-core[grpc]<2.0.0dev,>=1.6.0->google-cloud-language) (1.32.1)\n",
            "Requirement already satisfied: grpcio<2.0dev,>=1.29.0 in /usr/local/lib/python3.7/dist-packages (from google-api-core[grpc]<2.0.0dev,>=1.6.0->google-cloud-language) (1.34.1)\n",
            "Requirement already satisfied: rsa<5,>=3.1.4 in /usr/local/lib/python3.7/dist-packages (from google-auth<2.0dev,>=1.21.1->google-api-core[grpc]<2.0.0dev,>=1.6.0->google-cloud-language) (4.7.2)\n",
            "Requirement already satisfied: cachetools<5.0,>=2.0.0 in /usr/local/lib/python3.7/dist-packages (from google-auth<2.0dev,>=1.21.1->google-api-core[grpc]<2.0.0dev,>=1.6.0->google-cloud-language) (4.2.2)\n",
            "Requirement already satisfied: pyasn1-modules>=0.2.1 in /usr/local/lib/python3.7/dist-packages (from google-auth<2.0dev,>=1.21.1->google-api-core[grpc]<2.0.0dev,>=1.6.0->google-cloud-language) (0.2.8)\n",
            "Requirement already satisfied: pyparsing>=2.0.2 in /usr/local/lib/python3.7/dist-packages (from packaging>=14.3->google-api-core[grpc]<2.0.0dev,>=1.6.0->google-cloud-language) (2.4.7)\n",
            "Requirement already satisfied: pyasn1<0.5.0,>=0.4.6 in /usr/local/lib/python3.7/dist-packages (from pyasn1-modules>=0.2.1->google-auth<2.0dev,>=1.21.1->google-api-core[grpc]<2.0.0dev,>=1.6.0->google-cloud-language) (0.4.8)\n",
            "Requirement already satisfied: tornado>=6.1 in /usr/local/lib/python3.7/dist-packages (from python-telegram-bot) (6.1)\n",
            "Requirement already satisfied: APScheduler==3.6.3 in /usr/local/lib/python3.7/dist-packages (from python-telegram-bot) (3.6.3)\n",
            "Requirement already satisfied: tzlocal>=1.2 in /usr/local/lib/python3.7/dist-packages (from APScheduler==3.6.3->python-telegram-bot) (1.5.1)\n"
          ],
          "name": "stdout"
        }
      ]
    },
    {
      "cell_type": "code",
      "metadata": {
        "id": "RXR4PT6RI7mL",
        "colab": {
          "base_uri": "https://localhost:8080/"
        },
        "outputId": "c491bee3-625a-49f2-b2a0-3a1d1a71243d"
      },
      "source": [
        "from google.colab import drive\n",
        "drive.mount('/content/drive',force_remount=True)"
      ],
      "execution_count": null,
      "outputs": [
        {
          "output_type": "stream",
          "text": [
            "Mounted at /content/drive\n"
          ],
          "name": "stdout"
        }
      ]
    },
    {
      "cell_type": "code",
      "metadata": {
        "id": "jG877792JN7t"
      },
      "source": [
        "import pandas as pd"
      ],
      "execution_count": null,
      "outputs": []
    },
    {
      "cell_type": "code",
      "metadata": {
        "id": "Aau4BQlFJcTR"
      },
      "source": [
        "config=pd.read_csv('/content/drive/My Drive/config.csv')"
      ],
      "execution_count": null,
      "outputs": []
    },
    {
      "cell_type": "code",
      "metadata": {
        "id": "84RTIZmAJgPJ"
      },
      "source": [
        "twitterApiKey = config['twitterApiKey'][0]\n",
        "twitterApiSecret = config['twitterApiSecret'][0]\n",
        "twitterApiAccessToken = config['twitterApiAccessToken'][0]\n",
        "twitterApiAccessTokenSecret = config['twitterApiAccessTokenSecret'][0]"
      ],
      "execution_count": null,
      "outputs": []
    },
    {
      "cell_type": "code",
      "metadata": {
        "id": "AHKzEJvzJlCw"
      },
      "source": [
        "def authenticate(twitterApiKey,twitterApiSecret,twitterApiAccessToken,twitterApiAccessTokenSecret):\n",
        "  auth = tweepy.OAuthHandler(twitterApiKey, twitterApiSecret)\n",
        "  auth.set_access_token(twitterApiAccessToken, twitterApiAccessTokenSecret)\n",
        "  twitterApi = tweepy.API(auth, wait_on_rate_limit = True)\n",
        "  return twitterApi"
      ],
      "execution_count": null,
      "outputs": []
    },
    {
      "cell_type": "code",
      "metadata": {
        "id": "4nbn9IUeKy4m"
      },
      "source": [
        "api = authenticate(twitterApiKey,twitterApiSecret,twitterApiAccessToken,twitterApiAccessTokenSecret)"
      ],
      "execution_count": null,
      "outputs": []
    },
    {
      "cell_type": "code",
      "metadata": {
        "id": "dCKFbf-1JuFn"
      },
      "source": [
        "def search_tweets(keyword, total_tweets):\n",
        "    today_datetime = datetime.today().now()\n",
        "    yesterday_datetime = today_datetime - timedelta(days=1)\n",
        "    today_date = today_datetime.strftime('%Y-%m-%d')\n",
        "    yesterday_date = yesterday_datetime.strftime('%Y-%m-%d')\n",
        "    api = authenticate(twitterApiKey,twitterApiSecret,twitterApiAccessToken,twitterApiAccessTokenSecret)\n",
        "    search_result = tweepy.Cursor(api.search,\n",
        "                                  q=keyword,\n",
        "                                  since=yesterday_date,\n",
        "                                  result_type='recent',\n",
        "                                  lang='en').items(total_tweets)\n",
        "    return search_result"
      ],
      "execution_count": null,
      "outputs": []
    },
    {
      "cell_type": "code",
      "metadata": {
        "id": "QiHoLm_WMCIs"
      },
      "source": [
        "import re\n",
        "from nltk.tokenize import WordPunctTokenizer\n",
        "\n",
        "from datetime import datetime, timedelta\n"
      ],
      "execution_count": null,
      "outputs": []
    },
    {
      "cell_type": "code",
      "metadata": {
        "id": "hhD_OzP0MG1Z"
      },
      "source": [
        "def clean_tweets(tweet):\n",
        "    user_removed = re.sub(r'@[A-Za-z0-9]+','',tweet.decode('utf-8'))\n",
        "    link_removed = re.sub('https?://[A-Za-z0-9./]+','',user_removed)\n",
        "    number_removed = re.sub('[^a-zA-Z]', ' ', link_removed)\n",
        "    lower_case_tweet= number_removed.lower()\n",
        "    tok = WordPunctTokenizer()\n",
        "    words = tok.tokenize(lower_case_tweet)\n",
        "    clean_tweet = (' '.join(words)).strip()\n",
        "    return clean_tweet"
      ],
      "execution_count": null,
      "outputs": []
    },
    {
      "cell_type": "code",
      "metadata": {
        "id": "299VW9BMMPdc"
      },
      "source": [
        "\n",
        "from enum import Enum\n",
        "import numpy as np\n",
        "from textblob import TextBlob"
      ],
      "execution_count": null,
      "outputs": []
    },
    {
      "cell_type": "code",
      "metadata": {
        "id": "slxgLNbUMdQT"
      },
      "source": [
        "def get_sentiment_score(tweet):\n",
        "    return TextBlob(tweet).sentiment.polarity\n"
      ],
      "execution_count": null,
      "outputs": []
    },
    {
      "cell_type": "code",
      "metadata": {
        "id": "rIcgV5hbMgqU"
      },
      "source": [
        "def analyze_tweets(keyword, total_tweets):\n",
        "    score = 0\n",
        "    tweets = search_tweets(keyword, total_tweets)\n",
        "    for tweet in tweets:\n",
        "        cleaned_tweet = clean_tweets(tweet.text.encode('utf-8'))\n",
        "        sentiment_score = get_sentiment_score(cleaned_tweet)\n",
        "        score += sentiment_score\n",
        "        print('Tweet: {}'.format(cleaned_tweet))\n",
        "        print('Score: {}\\n'.format(sentiment_score))\n",
        "    final_score = round((score / float(total_tweets)),2)\n",
        "    return final_score"
      ],
      "execution_count": null,
      "outputs": []
    },
    {
      "cell_type": "code",
      "metadata": {
        "id": "sflVjvaqMl9M"
      },
      "source": [
        "def send_the_result(update,context):\n",
        "    keyword = update.message.text\n",
        "    final_score = analyze_tweets(keyword, 50)\n",
        "    if final_score <= -0.25:\n",
        "        status = 'NEGATIVE ❌'\n",
        "    elif final_score <= 0.25:\n",
        "        status = 'NEUTRAL ?'\n",
        "    else:\n",
        "        status = 'POSITIVE ✅'\n",
        "\n",
        ""
      ],
      "execution_count": null,
      "outputs": []
    },
    {
      "cell_type": "code",
      "metadata": {
        "id": "T0qpAXV1vmHl"
      },
      "source": [
        "def message_handler(update, context):\n",
        "  x=analyze_tweets(update.message.text,50)\n",
        "  if x < -0.0:\n",
        "      status = 'NEGATIVE ❌'\n",
        "  elif x > 0.0:\n",
        "      status = 'POSITIVE ✅'\n",
        "  else:\n",
        "      status = 'NEUTRAL !'\n",
        "  update.message.reply_text(text='The Review is '+ status +' and the score is '+ str(x))\n"
      ],
      "execution_count": null,
      "outputs": []
    },
    {
      "cell_type": "code",
      "metadata": {
        "id": "5cAB7NDGMrux",
        "colab": {
          "base_uri": "https://localhost:8080/"
        },
        "outputId": "236a373c-a3f4-4599-9347-dfa5b343fc2e"
      },
      "source": [
        "from telegram.ext import Updater, MessageHandler, Filters, CommandHandler\n",
        "\n",
        "def main():\n",
        "    updater = Updater('1465058888:AAEyVrIcCLyp32PYfT7cVu-pam6SNjGJYRs')\n",
        "    dp = updater.dispatcher\n",
        "    dp.add_handler(CommandHandler('start', send_the_result))\n",
        "    dp.add_handler(MessageHandler(filters=Filters.all, callback=message_handler))\n",
        "\n",
        "    updater.start_polling()\n",
        "    updater.idle()\n",
        "\n",
        "if __name__ == '__main__':\n",
        "    main()"
      ],
      "execution_count": null,
      "outputs": [
        {
          "output_type": "stream",
          "text": [
            "Tweet: rt need bo records call prabhas need charming guy call mahesh babu need acting skills call ntr need dancer call al\n",
            "Score: 0.35\n",
            "\n",
            "Tweet: rt need bo records call prabhas need charming guy call mahesh babu need acting skills call ntr need dancer call al\n",
            "Score: 0.35\n",
            "\n",
            "Tweet: well done to all our boys who helped hilton u s win the bdyl cup on tuesday night against lichfield cc congratula\n",
            "Score: 0.8\n",
            "\n",
            "Tweet: need bo records call prabhas need charming guy call need acting skills call nee\n",
            "Score: 0.35\n",
            "\n",
            "Tweet: rt need bo records call prabhas need charming guy call mahesh babu need acting skills call ntr need dancer call al\n",
            "Score: 0.35\n",
            "\n",
            "Tweet: rt need bo records call prabhas need charming guy call mahesh babu need acting skills call ntr need dancer call al\n",
            "Score: 0.35\n",
            "\n",
            "Tweet: rt need bo records call prabhas need charming guy call mahesh babu need acting skills call ntr need dancer call al\n",
            "Score: 0.35\n",
            "\n",
            "Tweet: rt need bo records call prabhas need charming guy call mahesh babu need acting skills call ntr need dancer call al\n",
            "Score: 0.35\n",
            "\n",
            "Tweet: rt need bo records call prabhas need charming guy call mahesh babu need acting skills call ntr need dancer call al\n",
            "Score: 0.35\n",
            "\n",
            "Tweet: rt need bo records call prabhas need charming guy call mahesh babu need acting skills call ntr need dancer call al\n",
            "Score: 0.35\n",
            "\n",
            "Tweet: rt need bo records call prabhas need charming guy call mahesh babu need acting skills call ntr need dancer call al\n",
            "Score: 0.35\n",
            "\n",
            "Tweet: rt need bo records call prabhas need charming guy call mahesh babu need acting skills call ntr need dancer call al\n",
            "Score: 0.35\n",
            "\n",
            "Tweet: rt need bo records call prabhas need charming guy call mahesh babu need acting skills call ntr need dancer call al\n",
            "Score: 0.35\n",
            "\n",
            "Tweet: rt need bo records call prabhas need charming guy call mahesh babu need acting skills call ntr need dancer call al\n",
            "Score: 0.35\n",
            "\n",
            "Tweet: rt need bo records call prabhas need charming guy call mahesh babu need acting skills call ntr need dancer call al\n",
            "Score: 0.35\n",
            "\n",
            "Tweet: rt need bo records call prabhas need charming guy call mahesh babu need acting skills call ntr need dancer call al\n",
            "Score: 0.35\n",
            "\n",
            "Tweet: rt need bo records call prabhas need charming guy call mahesh babu need acting skills call ntr need dancer call al\n",
            "Score: 0.35\n",
            "\n",
            "Tweet: rt need bo records call prabhas need charming guy call mahesh babu need acting skills call ntr need dancer call al\n",
            "Score: 0.35\n",
            "\n",
            "Tweet: rt need bo records call prabhas need charming guy call mahesh babu need acting skills call ntr need dancer call al\n",
            "Score: 0.35\n",
            "\n",
            "Tweet: rt need bo records call prabhas need charming guy call mahesh babu need acting skills call ntr need dancer call al\n",
            "Score: 0.35\n",
            "\n",
            "Tweet: rt need bo records call prabhas need charming guy call mahesh babu need acting skills call ntr need dancer call al\n",
            "Score: 0.35\n",
            "\n",
            "Tweet: rt need bo records call prabhas need charming guy call mahesh babu need acting skills call ntr need dancer call al\n",
            "Score: 0.35\n",
            "\n",
            "Tweet: rt need bo records call prabhas need charming guy call mahesh babu need acting skills call ntr need dancer call al\n",
            "Score: 0.35\n",
            "\n",
            "Tweet: rt pspk pawankalyan hariharaveeramallu prabhas radheyshyam salaar ntr rrr mahesh babu sarkaruvaaripaata allu arj\n",
            "Score: 0.0\n",
            "\n",
            "Tweet: rt need bo records call prabhas need charming guy call mahesh babu need acting skills call ntr need dancer call al\n",
            "Score: 0.35\n",
            "\n",
            "Tweet: rt need bo records call prabhas need charming guy call mahesh babu need acting skills call ntr need dancer call al\n",
            "Score: 0.35\n",
            "\n",
            "Tweet: rt need bo records call prabhas need charming guy call mahesh babu need acting skills call ntr need dancer call al\n",
            "Score: 0.35\n",
            "\n",
            "Tweet: rt need bo records call prabhas need charming guy call mahesh babu need acting skills call ntr need dancer call al\n",
            "Score: 0.35\n",
            "\n",
            "Tweet: rt need bo records call prabhas need charming guy call mahesh babu need acting skills call ntr need dancer call al\n",
            "Score: 0.35\n",
            "\n",
            "Tweet: rt need bo records call prabhas need charming guy call mahesh babu need acting skills call ntr need dancer call al\n",
            "Score: 0.35\n",
            "\n",
            "Tweet: rt need bo records call prabhas need charming guy call mahesh babu need acting skills call ntr need dancer call al\n",
            "Score: 0.35\n",
            "\n",
            "Tweet: rt need bo records call prabhas need charming guy call mahesh babu need acting skills call ntr need dancer call al\n",
            "Score: 0.35\n",
            "\n",
            "Tweet: rt need bo records call prabhas need charming guy call mahesh babu need acting skills call ntr need dancer call al\n",
            "Score: 0.35\n",
            "\n",
            "Tweet: rt need bo records call prabhas need charming guy call mahesh babu need acting skills call ntr need dancer call al\n",
            "Score: 0.35\n",
            "\n",
            "Tweet: need bo records call prabhas need charming guy call mahesh babu need acting skills call ntr need dancer c\n",
            "Score: 0.35\n",
            "\n",
            "Tweet: rt need bo records call prabhas need charming guy call mahesh babu need acting skills call ntr need dancer call al\n",
            "Score: 0.35\n",
            "\n",
            "Tweet: rt need bo records call prabhas need charming guy call mahesh babu need acting skills call ntr need dancer call al\n",
            "Score: 0.35\n",
            "\n",
            "Tweet: rt need bo records call prabhas need charming guy call mahesh babu need acting skills call ntr need dancer call al\n",
            "Score: 0.35\n",
            "\n",
            "Tweet: rt need bo records call prabhas need charming guy call mahesh babu need acting skills call ntr need dancer call al\n",
            "Score: 0.35\n",
            "\n",
            "Tweet: rt need bo records call prabhas need charming guy call mahesh babu need acting skills call ntr need dancer call al\n",
            "Score: 0.35\n",
            "\n",
            "Tweet: rt need bo records call prabhas need charming guy call mahesh babu need acting skills call ntr need dancer call al\n",
            "Score: 0.35\n",
            "\n",
            "Tweet: rt thore greetings to all fellow indians on flagadoptionday on july the tricolor flag with dharma chakra was adopted as\n",
            "Score: 0.0\n",
            "\n",
            "Tweet: rt need bo records call prabhas need charming guy call mahesh babu need acting skills call ntr need dancer call al\n",
            "Score: 0.35\n",
            "\n",
            "Tweet: rt need bo records call prabhas need charming guy call mahesh babu need acting skills call ntr need dancer call al\n",
            "Score: 0.35\n",
            "\n",
            "Tweet: rt need bo records call prabhas need charming guy call mahesh babu need acting skills call ntr need dancer call al\n",
            "Score: 0.35\n",
            "\n",
            "Tweet: rt need bo records call prabhas need charming guy call mahesh babu need acting skills call ntr need dancer call al\n",
            "Score: 0.35\n",
            "\n",
            "Tweet: rt sarpattaparambarai knockout punch art cinematography fight scene background music all the fields are shining\n",
            "Score: 0.0\n",
            "\n",
            "Tweet: rt need bo records call prabhas need charming guy call mahesh babu need acting skills call ntr need dancer call al\n",
            "Score: 0.35\n",
            "\n",
            "Tweet: rt need bo records call prabhas need charming guy call mahesh babu need acting skills call ntr need dancer call al\n",
            "Score: 0.35\n",
            "\n",
            "Tweet: rt need bo records call prabhas need charming guy call mahesh babu need acting skills call ntr need dancer call al\n",
            "Score: 0.35\n",
            "\n"
          ],
          "name": "stdout"
        }
      ]
    }
  ]
}